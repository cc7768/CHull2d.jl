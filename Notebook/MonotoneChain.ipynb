{
 "cells": [
  {
   "cell_type": "code",
   "execution_count": 6,
   "metadata": {
    "collapsed": false
   },
   "outputs": [
    {
     "ename": "LoadError",
     "evalue": "LoadError: LoadError: invalid redefinition of constant Point\nwhile loading /home/chase/Documents/Academic/Misc/Rep2Gam/CHull/point.jl, in expression starting on line 35\nwhile loading In[6], in expression starting on line 3",
     "output_type": "error",
     "traceback": [
      "LoadError: LoadError: invalid redefinition of constant Point\nwhile loading /home/chase/Documents/Academic/Misc/Rep2Gam/CHull/point.jl, in expression starting on line 35\nwhile loading In[6], in expression starting on line 3",
      "",
      " in include at ./boot.jl:261",
      " in include_from_node1 at ./loading.jl:304"
     ]
    }
   ],
   "source": [
    "using PlotlyJS\n",
    "\n",
    "include(\"point.jl\"); include(\"utils.jl\"); include(\"algorithms.jl\");"
   ]
  },
  {
   "cell_type": "markdown",
   "metadata": {},
   "source": [
    "# Monotone Chain Algorithm\n",
    "\n",
    "This notebook is a piece of a sequence of notebooks that discuss numerical convex hull algorithms. The goal of these algorithms is to take a set of points $P$ and output a set of extreme points $EP$ such that every point in $P$ is contained in $\\text{co}(EP)$.\n",
    "\n",
    "In this notebook we present the Monotone Chain algorithm -- also known as Andrew's algorithm."
   ]
  },
  {
   "cell_type": "markdown",
   "metadata": {},
   "source": [
    "## Introduction\n",
    "\n",
    "This algorithm was first introduced by A.M. Andrew in 1979 in the paper \"*Another Efficient Algorithm for Convex Hulls in Two Dimensions*.\" This algorithm also has $O(n \\log n)$ complexity which again is mostly due to sorting. The algorithm will compute the convex hull by computing two pieces: an \"upper\" and \"lower\" hull. The upper hull is the piece of the hull you would see looking down from above and the lower hull is the piece of the hull you would see looking up from below. One benefit this algorithm has over the Graham scan is that it will only require us to sort according to x-value instead of by angle -- This is a computationally simpler problem."
   ]
  },
  {
   "cell_type": "markdown",
   "metadata": {},
   "source": [
    "## Algorithm\n",
    "\n",
    "TODO: Reread some of this and rephrase some steps.\n",
    "\n",
    "* First, sort points by their x-coordinates in ascending order. Let $x_{\\text{min}}$ be the point with the smallest x-value, and likewise define $x_{\\text{max}}$ as the point with the largest $x$-value.\n",
    "* Second, split points into two categories based on whether they are above or below the line that runs from $x_{\\text{min}}$ to $x_{\\text{max}}$. The points above the line (including endpoints of line) will be referred to as $x_U$ and points below (including endpoints of line) will be referred to as $x_L$.\n",
    "* Third, beginning with $x_{\\text{min}}$ and iterating through points in $x_L$ in ascending order... This will build our lower hull\n",
    "* Fourth, beginning with $x_{\\text{max}}$ and iterating through points in $x_U$ in descending order... This will build our upper hull"
   ]
  },
  {
   "cell_type": "markdown",
   "metadata": {},
   "source": [
    "### Part 1: Sort\n",
    "\n",
    "Since we sort by x-coordinate, it is easy to just call out to the sorting function provided by your programming language -- Here we will simply call Julia's `sort`."
   ]
  },
  {
   "cell_type": "markdown",
   "metadata": {},
   "source": [
    "### Part 2: Split into two categories\n",
    "\n",
    "We now need to split the points into our two categories: $x_L$ and $x_U$. We can do this by taking each x-coordinate and computing the y-coordinate that corresponded to being on the line between $x_L$ and $x_U$. If the y-coordinate of the point is above the line then it belongs to $x_U$ and if it is below then it belongs to $x_L$.\n",
    "\n",
    "We write a function which splits the points into $x_L$ and $x_U$ below."
   ]
  },
  {
   "cell_type": "code",
   "execution_count": 7,
   "metadata": {
    "collapsed": false
   },
   "outputs": [
    {
     "data": {
      "text/plain": [
       "split_xL_xU (generic function with 1 method)"
      ]
     },
     "execution_count": 7,
     "metadata": {},
     "output_type": "execute_result"
    }
   ],
   "source": [
    "function split_xL_xU{T<:Real}(psort::Vector{Point{T}})\n",
    "    # Allocate space to identify where points belong\n",
    "    # We make endpoints true because we want them in both sets\n",
    "    npts = length(psort)\n",
    "    xL_bool = Array(Bool, npts)\n",
    "    xL_bool[1] = true; xL_bool[end] = true\n",
    "    xU_bool = Array(Bool, npts)\n",
    "    xU_bool[1] = true; xU_bool[end] = true\n",
    "\n",
    "    # Get the endpoints and slope\n",
    "    pmin = psort[1]; pmax = psort[end]\n",
    "    xmin = pmin.x; ymin = pmin.y\n",
    "    slope = (pmax.y - pmin.y)/(pmax.x - pmin.x)\n",
    "\n",
    "    # Iterate through all points except endpoints\n",
    "    for i=2:npts-1\n",
    "        # Pull out x and y values for ith point\n",
    "        p_i = psort[i]\n",
    "        xi, yi = p_i.x, p_i.y\n",
    "\n",
    "        # Compute where y on line would be\n",
    "        yi_line = ymin +  slope*(xi - xmin)\n",
    "\n",
    "        if yi_line <= yi\n",
    "            xL_bool[i] = false\n",
    "            xU_bool[i] = true\n",
    "        else\n",
    "            xL_bool[i] = true\n",
    "            xU_bool[i] = false\n",
    "        end\n",
    "    end\n",
    "    xL = psort[xL_bool]\n",
    "    xU = psort[xU_bool]\n",
    "\n",
    "    return xL, xU\n",
    "end\n"
   ]
  },
  {
   "cell_type": "markdown",
   "metadata": {},
   "source": [
    "### Part 3 & 4: Finding Upper and Lower Hulls\n",
    "\n",
    "In this step, we will use an approach that is similar to the Graham scan algorithm. If we are finding the upper (lower) hull then we will begin with $x_{\\text{min}}$ ($x_{\\text{max}}$) and work our way towards $x_{\\text{max}}$ ($x_{\\text{min}}$).\n",
    "\n",
    "Just as in the Graham scan, we will need to identify the direction of the turn generated by three points. Imagine we have three points $p_{i-1}, p_{i}, p_{i+1}$.\n",
    "\n",
    "* If these points constitute a counter-clockwise turn as desired then we proceed to compare points $p_{i}, p_{i+1}, p_{i+2}$.\n",
    "* If these points constitute a clockwise turn then we know that $p_{i}$ is not an element of the extreme points and can discard it. We would then \"take a step backwards\" and compare $p_{i-2}, p_{i-1}, p_{i+1}$\n",
    "\n",
    "We follow until we reach the end point which will be $x_{\\text{max}}$ when we are finding the lower hull and $x_{\\text{min}}$ when we are finding the upper hull.\n",
    "\n",
    "Notice that this is the same function from the [convex hull notebook](ConvexHulls.ipynb) that we used in the Graham scan algorithm."
   ]
  },
  {
   "cell_type": "markdown",
   "metadata": {},
   "source": [
    "## Implementation\n",
    "\n",
    "We can combine the previous steps into this short function which will compute the convex hull using the monotone chain algorithm."
   ]
  },
  {
   "cell_type": "code",
   "execution_count": 8,
   "metadata": {
    "collapsed": false
   },
   "outputs": [
    {
     "data": {
      "text/plain": [
       "_monotonechain (generic function with 1 method)"
      ]
     },
     "execution_count": 8,
     "metadata": {},
     "output_type": "execute_result"
    }
   ],
   "source": [
    "function _monotonechain{T<:Real}(p::Vector{Point{T}})\n",
    "\n",
    "    # Sort points\n",
    "    psort = sort(p)\n",
    "\n",
    "    # Split into upper and lower\n",
    "    xl, xu = split_xL_xU(psort)\n",
    "\n",
    "    lh = wrappoints(xl)\n",
    "    uh = wrappoints(reverse!(xu))\n",
    "\n",
    "    return [lh[1:end-1]; uh[1:end-1]]\n",
    "end\n"
   ]
  },
  {
   "cell_type": "markdown",
   "metadata": {},
   "source": [
    "## Example Usage\n",
    "\n",
    "We can now do a simple example of how this function would be called."
   ]
  },
  {
   "cell_type": "code",
   "execution_count": 9,
   "metadata": {
    "collapsed": false
   },
   "outputs": [],
   "source": [
    "srand(1112016)\n",
    "p = [Point(randn(), randn()) for i=1:250]\n",
    "ep = _monotonechain(p)\n",
    "\n",
    "# Add the first point to end to make plot pretty\n",
    "push!(ep, ep[1]);"
   ]
  },
  {
   "cell_type": "code",
   "execution_count": 10,
   "metadata": {
    "collapsed": false
   },
   "outputs": [
    {
     "data": {
      "text/html": [
       "<html>\n",
       "<head>\n",
       "    <script src=\"/home/chase/.julia/v0.4/PlotlyJS/deps/plotly-latest.min.js\"></script>\n",
       "</head>\n",
       "\n",
       "<body>\n",
       "  <div id=\"202be901-7220-4f62-bc4d-3bda4aca0627\"></div>\n",
       "\n",
       "<script>\n",
       "   thediv = document.getElementById('202be901-7220-4f62-bc4d-3bda4aca0627');\n",
       "var data = [{\"type\":\"scatter\",\"y\":[-0.7680712122794375,-0.7117792544395456,0.7114351110217865,0.08742372151914503,-0.9288946371697001,1.0797446051024913,0.26974526726932935,-0.12740412816902524,0.797652679299074,0.6950432790933503,-0.13437271172620122,0.15107527815112048,-0.03446667323431454,0.4294694850152829,-0.5160792630733915,0.518080858228826,0.8956290733621866,0.17275159346944627,-1.1353798271556395,1.6137392062611848,-0.6415882672993387,-0.6138631373405518,1.5539278582677836,0.469067079085304,-0.5736305221473835,0.1546010036678776,-1.192521379868138,-1.5951404351887835,0.015227897675262276,1.2881836760251342,1.3873675760957493,0.447118004283874,0.8834409639103276,-0.7488242625395698,0.36288453491754297,-2.0252721252877475,0.5628262816573745,-0.16785173336827885,0.27841465990994546,-0.45560707133704975,-1.6190737948067464,0.4568429021012502,-0.9620305322744541,-1.4622571842185879,-0.9101440266810206,-0.2904655359716355,0.43448614346637393,-0.13976227800157248,0.1645308435795548,-0.4862052398329735,-0.4799761661599405,1.4302204544079546,0.009546223339155403,-0.29895852108888205,0.9580970124191954,0.6429772275194751,-1.462303676896082,0.3882812594129969,-0.5047340933154703,0.6093457113152181,0.17357234637840654,1.4636748354761087,0.11564198965548012,-0.09711507481767713,-0.5519581969976827,-0.01578649578431767,0.8584619927593892,-0.22127601020052015,-0.578779905831304,0.6705577872415687,-0.9620269325341935,1.4529854860476157,0.242800166802366,0.5332763725105353,-0.9535759293489191,1.3752175602895036,-1.9091202393871007,0.09460645643765514,0.5378010540829401,-0.47343948790699936,0.377994270578351,-0.03645821599127214,-0.2716147949074923,-1.0692327613919614,-1.0849332631882038,0.6813734319402674,1.0796356467097246,1.0101864852602833,0.37194699592177255,-0.2729509639276831,-0.6889215493806728,-2.8122434908074294,0.37669253728875995,-0.47437964268232446,0.7194710417222963,-0.421620885443086,1.159427456848371,0.3051219299452436,-0.27552248545251673,-0.21983520492008887,-0.8546637952133909,0.2211554824036383,-0.3019002796549052,-0.9778542131300435,0.8225525214745438,0.285796471101801,0.17097753334161672,0.828710304534408,1.6856740808801907,0.16812559856979986,1.1268719918781982,0.9397393537329829,0.2205971089298123,-0.5392128051262073,0.17475823280305447,-0.08198578994417187,-0.6702375875221501,-1.261353978902504,0.0758706995965744,0.8400301829567961,0.35248848194250865,0.4774582324643849,1.50404638293295,-0.8707792105949057,0.718184024709084,-0.6543037832926805,-1.121018204130632,-2.234082376637277,-0.9926977277294989,-0.5130039861863334,-0.009353116923036114,-1.6176001544553331,1.9091276182895112,1.286858201429197,2.5991843958926237,-0.6933743283487542,1.5003736632379807,-0.2587458282688471,-1.1398975976707921,0.40784392764210387,-0.08387638412468726,1.1196184182786613,-0.5646038836668942,0.5456987082697058,1.141674183400774,-0.3656575704732427,-1.5975926753553988,0.8559694944523851,-1.1835364168225098,-0.3552889936588626,0.30837960637086176,-0.38644523165595307,0.12051290627747954,-0.9108373068287838,-0.2497284007433434,-0.30194848397115287,0.010108751847345523,-0.30018516357274944,-0.9119522392569439,-0.5396863795735573,0.7596130543879231,1.034085848177443,-0.32298792753674826,-0.5435867308946184,1.649311762891404,-0.4889705454310563,-0.7756002047142522,-0.8442738537302967,0.7891452462922546,0.07875078630174025,0.7108689148712024,-0.8061172785250129,-0.5457865218218917,0.8077948621092252,0.12542317861044977,-0.5890041571903798,-1.4978709431701713,0.9305474961789423,1.2367735381170961,0.27285361715729906,-0.4621524932708082,0.8557908817242785,-0.013959421566083735,-1.532216447446741,-0.212672460068133,-0.017090607139748963,0.6565095100953372,-0.1443455048606679,-0.8926288234152939,-0.6985626630281564,-0.6474507739564094,1.0220259641719573,0.830504662907609,-1.8900292140689148,-0.8290008942631463,1.1350161482685095,-2.1435281680333054,1.1161987082647602,-0.017325294348292938,0.6648119363111232,0.27044344032026146,-0.3910126931206038,-1.5673258045829284,0.11920930660514789,0.5373257088654639,0.6490255329811296,-0.41515109119603555,-0.050998165930457875,-0.32879736667914466,1.2644767644723363,0.2603147274084061,1.6533505418203693,-2.0821555602925144,-0.4680756350565235,1.264066087552075,-1.1728337692458441,1.1775716725559575,-0.8748357450032063,1.5475057268438557,-0.5860590224382689,0.7900536088086797,0.11956942553885481,-1.5805012885995309,0.5145717207636674,-0.114192123222033,1.2735279091714469,-1.5405621662496287,0.8388442340877477,-0.18670672660559703,-0.2213331542917413,-0.92346772672369,-0.5674967397193433,0.21078253639283476,1.1430826321062673,0.539804428942092,0.6834928996407665,0.7316166028742552,-0.042759629206160756,0.1158997948447915,-0.928967502179303,0.7801057938760927,-1.3534794797779501,0.8222782001543777,0.5071110791343603,1.2904642997952618,-0.28657639741299873,0.4793482286740333,1.1401229300271083,0.6098688769741955,-0.6275438007287261],\"x\":[0.610465745836565,-0.21762584355148964,-0.7785076163284675,0.27867377637705637,-1.52875111597706,0.3202229788927131,1.0200874891921625,1.8225231394670538,-1.3779157618762623,0.35483129324812945,1.0125491496173813,1.4063524351014627,1.0488231029531543,0.7613267421918374,1.8060587731126398,-0.6300676508871015,-1.9821606525977726,-0.10447115504762983,1.1944079197471424,-0.2219870792595544,0.37231649199235733,0.7373662057030708,-0.6330191298672319,1.5634029296991478,-1.280374088198743,1.5187725307121587,1.1854166413792138,-0.9908265342168526,-0.6866876592528738,-2.8517371115731116,-0.4986192179846327,1.1146671317222654,-0.7241617258841478,-0.2774791075878423,0.2739151445943595,1.6747931143520505,-0.02831594067128129,-1.77956841913019,0.4218205233455569,0.03350224286133338,0.41902121946038007,2.1892774272766378,0.22981286542290302,1.0476178980560347,-0.5056526160512365,0.4122072668383023,-0.3908389886037979,-0.710014665013604,0.7169171097448515,0.4063943552792111,-0.4898420787545562,0.500565629423977,-0.31357825995390026,-0.9025726447574227,-0.07179226359972501,-0.621530760548774,0.46355912427972523,-0.5389601872823337,-0.6538130170341354,0.20010759662168207,1.10491379176515,1.5117039500918594,0.9039497661925419,-1.6618917301241842,-0.4614105557285558,1.0991553061668626,0.15684664744773838,0.6953120546795232,0.8082064880715146,-0.6011531825072173,-0.6464456251940626,0.9421092943887389,0.20133721416609243,-0.5399518455730744,0.3311021851185071,1.726900516781768,-2.2291441566982244,-2.2661814140786034,-1.8369451485277586,-1.647613978387177,-1.326878387023631,-1.4959466575235436,-0.8344861514149272,2.0907438734596506,0.2137204209737708,-1.15391279424096,0.12157626929487426,0.06426331042736114,0.5546717152315152,-0.2712596521549425,0.27839631783840413,-0.5169991171873863,-0.15049460929502467,0.8299354476669508,0.18048811669083104,-0.23025296160648442,0.6014147036239537,-0.17666401482540114,-1.0068514174544303,-1.4069684600812558,0.8492357720215072,-0.8011878298979765,-1.381839516404338,0.02636540263579581,-0.1966577338901699,-0.3076219262614744,-0.6258400152622969,1.2514610239339936,-0.3017063563208158,0.025821909094192876,0.8790108850613948,1.1876744250558886,1.6994558571946228,1.8063400088566237,0.061933039905820005,0.24458406955764175,2.7319902906007276,-0.10568065339654563,-1.2034057152263429,-0.34768651375478327,-0.27001651587916536,-0.3702933643477088,2.359673829929671,-0.4626570738569229,0.40500609332991044,-1.4716230776365526,1.3469939300329952,0.26730209868004107,-0.9715826862444606,1.192721000699945,0.23231577350404486,-0.08065847591440659,2.104985807303852,-0.2022313330066546,0.8740862397393283,-0.7372361748051689,0.32890359702129457,-1.631676983607563,-1.5032057635434943,-1.1428234710819591,-0.20546421571343476,1.0725081187241925,-0.08124482979871689,-0.676069567685858,0.9086785948360204,0.47024110527150487,0.9435419765842915,1.0259406812793972,0.5345095196927696,-0.6099101933247778,0.07933814831091722,-0.8756563236668211,-2.221795053096375,-0.3050629620931951,-0.022152804015107188,0.23184567003835185,-0.8145912080169935,-0.23617968143845486,0.9733246689634336,-1.496761072753199,-0.36005816608886276,-1.2254762200589537,-0.5032438291928836,-0.5561297041308094,0.04128735626273744,0.5051309207839395,0.9390990153597657,0.8821684822328454,1.3088300078473434,-0.4769630478959704,-0.7286091143298963,1.031315138728553,-0.20180147945065727,-1.2946347121411923,1.7673575723697623,-0.685705547738284,-2.17465912713376,-0.14601648059701158,2.3978640201984254,-0.8242285154651185,-0.18119475794180429,0.5700553641604802,-0.06855593060516345,1.0152211712428911,0.43958669844901616,0.468262334441499,2.073911640368947,0.049288319295518204,1.5065128764898474,0.761758642755874,0.9163568481611506,-1.8128139261189473,-0.9530938300804104,0.48788672032890906,-1.4994948455288668,0.5292337771974709,-0.43592772882425074,0.027818656053597967,-0.46960929584677774,0.5727984191149081,-2.7426183698528286,-1.4722551730365048,-1.450216804094945,-1.220710783031575,-0.2379283499415604,0.42861584237066835,0.12797712311895482,0.9269095146366843,-0.1537378701782187,-0.6746581340485808,0.053734850308714034,-1.4635281027359432,1.6987963974966858,0.7102574145024927,0.40954834402002654,1.6213918132468272,-0.17754257567577947,0.07537679237639167,0.4046009231170003,-0.2945273871227901,1.0387948996109635,-0.44504463918519255,0.9581587239535657,1.24377309454335,0.9172047116440555,-1.7338682688684028,-0.6602738289298319,0.1416438531295336,0.33106442765391986,-0.07933006431600638,1.114690914112811,1.1415604467544795,0.8578821042498661,0.053080663316400885,-0.051357858486175224,-0.49153572881739294,-1.1707253740873222,0.2001622527066167,0.5986734920602141,1.4990411516053443,0.22517592799050204,0.4190993783728819,0.6016276166292885,-0.030726989662073087,-0.7141983935282565,-2.1079006220816017,-1.9377317909556826,1.087557771914154,0.9628062162886224,-0.18746893141968554],\"mode\":\"markers\"},{\"type\":\"scatter\",\"y\":[1.2881836760251342,0.27044344032026146,-1.9091202393871007,-2.8122434908074294,-2.0821555602925144,-0.6702375875221501,1.50404638293295,1.9091276182895112,2.5991843958926237,1.2881836760251342],\"x\":[-2.8517371115731116,-2.7426183698528286,-2.2291441566982244,-0.5169991171873863,1.6987963974966858,2.7319902906007276,2.359673829929671,2.104985807303852,0.8740862397393283,-2.8517371115731116],\"mode\":\"lines\"}]\n",
       "var layout = {\"margin\":{\"r\":50,\"l\":50,\"b\":50,\"t\":60}}\n",
       "\n",
       "Plotly.plot(thediv, data,  layout, {showLink: false});\n",
       "\n",
       " </script>\n",
       "\n",
       "</body>\n",
       "</html>\n"
      ],
      "text/plain": [
       "data: [\n",
       "  \"scatter with fields mode, x, and y\",\n",
       "  \"scatter with fields mode, x, and y\"\n",
       "]\n",
       "\n",
       "layout: \"layout with field margin\"\n",
       "\n"
      ]
     },
     "execution_count": 10,
     "metadata": {},
     "output_type": "execute_result"
    }
   ],
   "source": [
    "trace1 = scatter(;x=[el.x for el in p], y=[el.y for el in p], mode=\"markers\");\n",
    "trace2 = scatter(;x=[el.x for el in ep], y=[el.y for el in ep], mode=\"lines\");\n",
    "\n",
    "Plot([trace1, trace2])"
   ]
  },
  {
   "cell_type": "markdown",
   "metadata": {
    "collapsed": true
   },
   "source": [
    "## References\n",
    "\n",
    "* A. M. Andrew, \"*Another Efficient Algorithm for Convex Hulls in Two Dimensions*\", Info. Proc. Letters 9, 216-219 (1979)."
   ]
  }
 ],
 "metadata": {
  "kernelspec": {
   "display_name": "Julia 0.4.2",
   "language": "julia",
   "name": "julia-0.4"
  },
  "language_info": {
   "file_extension": ".jl",
   "mimetype": "application/julia",
   "name": "julia",
   "version": "0.4.2"
  }
 },
 "nbformat": 4,
 "nbformat_minor": 0
}
