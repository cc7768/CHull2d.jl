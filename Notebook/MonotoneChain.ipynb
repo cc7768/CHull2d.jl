{
 "cells": [
  {
   "cell_type": "code",
   "execution_count": 1,
   "metadata": {
    "collapsed": false
   },
   "outputs": [],
   "source": [
    "using CHull2D\n",
    "using FixedSizeArrays\n",
    "using PyPlot"
   ]
  },
  {
   "cell_type": "markdown",
   "metadata": {},
   "source": [
    "# Monotone Chain Algorithm\n",
    "\n",
    "This notebook is a piece of a sequence of notebooks that discuss numerical convex hull algorithms. The goal of these algorithms is to take a set of points $P$ and output a set of extreme points $EP$ such that every point in $P$ is contained in $\\text{co}(EP)$.\n",
    "\n",
    "In this notebook we present the Monotone Chain algorithm -- also known as Andrew's algorithm."
   ]
  },
  {
   "cell_type": "markdown",
   "metadata": {},
   "source": [
    "## Introduction\n",
    "\n",
    "This algorithm was first introduced by A.M. Andrew in 1979 in the paper \"*Another Efficient Algorithm for Convex Hulls in Two Dimensions*.\" This algorithm also has $O(n \\log n)$ complexity which again is mostly due to sorting. The algorithm will compute the convex hull by computing two pieces: an \"upper\" and \"lower\" hull. The upper hull is the piece of the hull you would see looking down from above and the lower hull is the piece of the hull you would see looking up from below. One benefit this algorithm has over the Graham scan is that it will only require us to sort according to x-value instead of by angle -- This is a computationally simpler problem."
   ]
  },
  {
   "cell_type": "markdown",
   "metadata": {},
   "source": [
    "## Algorithm\n",
    "\n",
    "TODO: Reread some of this and rephrase some steps.\n",
    "\n",
    "* First, sort points by their x-coordinates in ascending order. Let $x_{\\text{min}}$ be the point with the smallest x-value, and likewise define $x_{\\text{max}}$ as the point with the largest $x$-value.\n",
    "* Second, split points into two categories based on whether they are above or below the line that runs from $x_{\\text{min}}$ to $x_{\\text{max}}$. The points above the line (including endpoints of line) will be referred to as $x_U$ and points below (including endpoints of line) will be referred to as $x_L$.\n",
    "* Third, beginning with $x_{\\text{min}}$ and iterating through points in $x_L$ in ascending order... This will build our lower hull\n",
    "* Fourth, beginning with $x_{\\text{max}}$ and iterating through points in $x_U$ in descending order... This will build our upper hull"
   ]
  },
  {
   "cell_type": "markdown",
   "metadata": {},
   "source": [
    "### Part 1: Sort\n",
    "\n",
    "Since we sort by x-coordinate, it is easy to just call out to the sorting function provided by your programming language -- Here we will simply call Julia's `sort`."
   ]
  },
  {
   "cell_type": "markdown",
   "metadata": {},
   "source": [
    "### Part 2: Split into two categories\n",
    "\n",
    "We now need to split the points into our two categories: $x_L$ and $x_U$. We can do this by taking each x-coordinate and computing the y-coordinate that corresponded to being on the line between $x_L$ and $x_U$. If the y-coordinate of the point is above the line then it belongs to $x_U$ and if it is below then it belongs to $x_L$.\n",
    "\n",
    "We write a function which splits the points into $x_L$ and $x_U$ below."
   ]
  },
  {
   "cell_type": "code",
   "execution_count": 2,
   "metadata": {
    "collapsed": false
   },
   "outputs": [
    {
     "data": {
      "text/plain": [
       "split_xL_xU (generic function with 1 method)"
      ]
     },
     "execution_count": 2,
     "metadata": {},
     "output_type": "execute_result"
    }
   ],
   "source": [
    "function split_xL_xU{T<:Real}(psort::Vector{Point{2, T}})\n",
    "    # Allocate space to identify where points belong\n",
    "    # We make endpoints true because we want them in both sets\n",
    "    npts = length(psort)\n",
    "    xL_bool = Array(Bool, npts)\n",
    "    xL_bool[1] = true; xL_bool[end] = true\n",
    "    xU_bool = Array(Bool, npts)\n",
    "    xU_bool[1] = true; xU_bool[end] = true\n",
    "\n",
    "    # Get the endpoints and slope\n",
    "    pmin = psort[1]; pmax = psort[end]\n",
    "    ls = LineSegment(pmin, pmax)\n",
    "\n",
    "    # We check whether it is above or below the line between\n",
    "    # the points, but could also check whether it was clockwise\n",
    "    # or counter-clockwise (above/below seems like less operations)\n",
    "    # Iterate through all points except endpoints\n",
    "    @inbounds for i=2:npts-1\n",
    "        # Pull out x and y values for ith point\n",
    "        p_i = psort[i]\n",
    "        xi, yi = p_i[1], p_i[2]\n",
    "\n",
    "        # Compute where y on line would be\n",
    "        yi_line = evaluatey(ls, xi)\n",
    "\n",
    "        if yi_line <= yi\n",
    "            xL_bool[i] = false\n",
    "            xU_bool[i] = true\n",
    "        else\n",
    "            xL_bool[i] = true\n",
    "            xU_bool[i] = false\n",
    "        end\n",
    "    end\n",
    "    xL = psort[xL_bool]\n",
    "    xU = psort[xU_bool]\n",
    "\n",
    "    return xL, xU\n",
    "end\n"
   ]
  },
  {
   "cell_type": "markdown",
   "metadata": {},
   "source": [
    "### Part 3 & 4: Finding Upper and Lower Hulls\n",
    "\n",
    "In this step, we will use an approach that is similar to the Graham scan algorithm. If we are finding the upper (lower) hull then we will begin with $x_{\\text{min}}$ ($x_{\\text{max}}$) and work our way towards $x_{\\text{max}}$ ($x_{\\text{min}}$).\n",
    "\n",
    "Just as in the Graham scan, we will need to identify the direction of the turn generated by three points. Imagine we have three points $p_{i-1}, p_{i}, p_{i+1}$.\n",
    "\n",
    "* If these points constitute a counter-clockwise turn as desired then we proceed to compare points $p_{i}, p_{i+1}, p_{i+2}$.\n",
    "* If these points constitute a clockwise turn then we know that $p_{i}$ is not an element of the extreme points and can discard it. We would then \"take a step backwards\" and compare $p_{i-2}, p_{i-1}, p_{i+1}$\n",
    "\n",
    "We follow until we reach the end point which will be $x_{\\text{max}}$ when we are finding the lower hull and $x_{\\text{min}}$ when we are finding the upper hull.\n",
    "\n",
    "Notice that this is the same function from the [convex hull notebook](ConvexHulls.ipynb) that we used in the Graham scan algorithm."
   ]
  },
  {
   "cell_type": "markdown",
   "metadata": {},
   "source": [
    "## Implementation\n",
    "\n",
    "We can combine the previous steps into this short function which will compute the convex hull using the monotone chain algorithm."
   ]
  },
  {
   "cell_type": "code",
   "execution_count": 3,
   "metadata": {
    "collapsed": false
   },
   "outputs": [
    {
     "data": {
      "text/plain": [
       "_monotonechain (generic function with 1 method)"
      ]
     },
     "execution_count": 3,
     "metadata": {},
     "output_type": "execute_result"
    }
   ],
   "source": [
    "function _monotonechain{T<:Real}(p::Vector{Point{2, T}})\n",
    "\n",
    "    # Sort points\n",
    "    psort = sort!(p)\n",
    "\n",
    "    # Split into upper and lower\n",
    "    xl, xu = split_xL_xU(psort)\n",
    "\n",
    "    lh = wrappoints(xl)\n",
    "    uh = wrappoints(reverse!(xu))\n",
    "\n",
    "    return [lh[1:end-1]; uh[1:end-1]]\n",
    "end\n"
   ]
  },
  {
   "cell_type": "markdown",
   "metadata": {},
   "source": [
    "## Example Usage\n",
    "\n",
    "We can now do a simple example of how this function would be called."
   ]
  },
  {
   "cell_type": "code",
   "execution_count": 4,
   "metadata": {
    "collapsed": false
   },
   "outputs": [],
   "source": [
    "srand(1112016)\n",
    "p = [Point(randn(), randn()) for i=1:250]\n",
    "ep = _monotonechain(p)\n",
    "\n",
    "# Add the first point to end to make plot pretty\n",
    "push!(ep, ep[1]);"
   ]
  },
  {
   "cell_type": "code",
   "execution_count": 5,
   "metadata": {
    "collapsed": false
   },
   "outputs": [
    {
     "data": {
      "image/png": "[encoded data removed]",
      "text/plain": [
       "PyPlot.Figure(PyObject <matplotlib.figure.Figure object at 0x7f5a69d54f50>)"
      ]
     },
     "metadata": {},
     "output_type": "display_data"
    },
    {
     "data": {
      "text/plain": [
       "1-element Array{Any,1}:\n",
       " PyObject <matplotlib.lines.Line2D object at 0x7f5a69ccb690>"
      ]
     },
     "execution_count": 5,
     "metadata": {},
     "output_type": "execute_result"
    },
    {
     "name": "stderr",
     "output_type": "stream",
     "text": [
      "/home/chase/.julia/v0.4/Conda/deps/usr/lib/python2.7/site-packages/matplotlib/collections.py:590: FutureWarning: elementwise comparison failed; returning scalar instead, but in the future will perform elementwise comparison\n",
      "  if self._edgecolors == str('face'):\n"
     ]
    }
   ],
   "source": [
    "fig, ax = subplots()\n",
    "\n",
    "ax[:scatter]([el[1] for el in p], [el[2] for el in p], color=\"r\")\n",
    "ax[:plot]([el[1] for el in ep], [el[2] for el in ep], color=\"k\")\n"
   ]
  },
  {
   "cell_type": "markdown",
   "metadata": {
    "collapsed": true
   },
   "source": [
    "## References\n",
    "\n",
    "* A. M. Andrew, \"*Another Efficient Algorithm for Convex Hulls in Two Dimensions*\", Info. Proc. Letters 9, 216-219 (1979)."
   ]
  }
 ],
 "metadata": {
  "kernelspec": {
   "display_name": "Julia 0.4.4-pre",
   "language": "julia",
   "name": "julia-0.4"
  },
  "language_info": {
   "file_extension": ".jl",
   "mimetype": "application/julia",
   "name": "julia",
   "version": "0.4.4"
  }
 },
 "nbformat": 4,
 "nbformat_minor": 0
}
