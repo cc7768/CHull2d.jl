{
 "cells": [
  {
   "cell_type": "markdown",
   "metadata": {},
   "source": [
    "# Quickhull Algorithm\n",
    "\n",
    "This notebook is a piece of a sequence of notebooks that discuss numerical convex hull algorithms. The goal of these algorithms is to take a set of points $P$ and output a set of extreme points $EP$ such that every point in $P$ is contained in $\\text{co}(EP)$.\n",
    "\n",
    "In this notebook we present the Quickhull algorithm."
   ]
  },
  {
   "cell_type": "markdown",
   "metadata": {
    "collapsed": true
   },
   "source": [
    "## Introduction\n",
    "\n",
    "This algorithm was initially introduced by ??. The complexity of the algorithm is similar to that of quicksort in the sense that on average the complexity is $O(n \\log n)$ with a worst case of $O(n^2)$, but like quicksort it tends to do quite well. A nice feature of the quickhull algorithm is, that unlike the Graham scan or monotone chain algorithms, it extends naturally to higher dimensions.\n"
   ]
  },
  {
   "cell_type": "code",
   "execution_count": null,
   "metadata": {
    "collapsed": true
   },
   "outputs": [],
   "source": []
  }
 ],
 "metadata": {
  "kernelspec": {
   "display_name": "Julia 0.4.2",
   "language": "julia",
   "name": "julia-0.4"
  },
  "language_info": {
   "file_extension": ".jl",
   "mimetype": "application/julia",
   "name": "julia",
   "version": "0.4.2"
  }
 },
 "nbformat": 4,
 "nbformat_minor": 0
}
